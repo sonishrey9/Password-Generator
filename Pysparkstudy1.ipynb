{
  "nbformat": 4,
  "nbformat_minor": 0,
  "metadata": {
    "colab": {
      "name": "Pysparkstudy1.ipynb",
      "provenance": [],
      "authorship_tag": "ABX9TyO0sTPlcYJTX9TjJs2kzE5q",
      "include_colab_link": true
    },
    "kernelspec": {
      "name": "python3",
      "display_name": "Python 3"
    },
    "language_info": {
      "name": "python"
    }
  },
  "cells": [
    {
      "cell_type": "markdown",
      "metadata": {
        "id": "view-in-github",
        "colab_type": "text"
      },
      "source": [
        "<a href=\"https://colab.research.google.com/github/sonishrey9/Password-Generator/blob/main/Pysparkstudy1.ipynb\" target=\"_parent\"><img src=\"https://colab.research.google.com/assets/colab-badge.svg\" alt=\"Open In Colab\"/></a>"
      ]
    },
    {
      "cell_type": "code",
      "metadata": {
        "colab": {
          "base_uri": "https://localhost:8080/"
        },
        "id": "Zzaofyn5iI0-",
        "outputId": "899cdd01-db4a-4a3c-e3c4-cc04b8760020"
      },
      "source": [
        "pip install pyspark"
      ],
      "execution_count": 1,
      "outputs": [
        {
          "output_type": "stream",
          "name": "stdout",
          "text": [
            "Requirement already satisfied: pyspark in /usr/local/lib/python3.7/dist-packages (3.2.0)\n",
            "Requirement already satisfied: py4j==0.10.9.2 in /usr/local/lib/python3.7/dist-packages (from pyspark) (0.10.9.2)\n"
          ]
        }
      ]
    },
    {
      "cell_type": "code",
      "metadata": {
        "id": "pbnwq6rWiK9P"
      },
      "source": [
        "import pyspark\n",
        "from pyspark.sql import SparkSession"
      ],
      "execution_count": 2,
      "outputs": []
    },
    {
      "cell_type": "code",
      "metadata": {
        "id": "TLgEFXZej8XR"
      },
      "source": [
        "\n",
        "import pyspark\n",
        "from pyspark.sql import SparkSession\n",
        "spark = SparkSession.builder.master(\"local[1]\") \\\n",
        "                    .appName('SparkByExamples.com') \\\n",
        "                    .getOrCreate()\n"
      ],
      "execution_count": 3,
      "outputs": []
    },
    {
      "cell_type": "code",
      "metadata": {
        "colab": {
          "base_uri": "https://localhost:8080/"
        },
        "id": "-sa8jneViorg",
        "outputId": "d73d49bb-b768-4250-80fb-18c896263313"
      },
      "source": [
        "df = spark.read.csv(\"000000_0.csv\", sep= \"\u0001\", header=True,inferSchema=True)\n",
        "df.show()"
      ],
      "execution_count": 4,
      "outputs": [
        {
          "output_type": "stream",
          "name": "stdout",
          "text": [
            "+------+---------------+---+---------------+---+-------------+-------------------+--------------+--------+---+----+-------+----+-------+\n",
            "|200507|  ATA Airlines1|TZ2|  ATA Airlines3|TZ4|     Domestic|                 US|      Deplaned|Low Fare|\\N9|\\N10|2727111|\\N12|2727113|\n",
            "+------+---------------+---+---------------+---+-------------+-------------------+--------------+--------+---+----+-------+----+-------+\n",
            "|200507|   ATA Airlines| TZ|   ATA Airlines| TZ|     Domestic|                 US|      Enplaned|Low Fare| \\N|  \\N|  29131|  \\N|  29131|\n",
            "|200507|   ATA Airlines| TZ|   ATA Airlines| TZ|     Domestic|                 US|Thru / Transit|Low Fare| \\N|  \\N|   5415|  \\N|  10830|\n",
            "|200507|    Air Canada | AC|    Air Canada | AC|International|             Canada|      Deplaned|   Other| \\N|  \\N|  35156|  \\N|  35156|\n",
            "|200507|    Air Canada | AC|    Air Canada | AC|International|             Canada|      Enplaned|   Other| \\N|  \\N|  34090|  \\N|  34090|\n",
            "|200507|      Air China| CA|      Air China| CA|International|               Asia|      Deplaned|   Other| \\N|  \\N|   6263|  \\N|   6263|\n",
            "|200507|      Air China| CA|      Air China| CA|International|               Asia|      Enplaned|   Other| \\N|  \\N|   5500|  \\N|   5500|\n",
            "|200507|     Air France| AF|     Air France| AF|International|             Europe|      Deplaned|   Other| \\N|  \\N|  12050|  \\N|  12050|\n",
            "|200507|     Air France| AF|     Air France| AF|International|             Europe|      Enplaned|   Other| \\N|  \\N|  11638|  \\N|  11638|\n",
            "|200507|Air New Zealand| NZ|Air New Zealand| NZ|International|Australia / Oceania|      Deplaned|   Other| \\N|  \\N|   4998|  \\N|   4998|\n",
            "|200507|Air New Zealand| NZ|Air New Zealand| NZ|International|Australia / Oceania|      Enplaned|   Other| \\N|  \\N|   4962|  \\N|   4962|\n",
            "|200507|AirTran Airways| FL|AirTran Airways| FL|     Domestic|                 US|      Deplaned|Low Fare| \\N|  \\N|   8055|  \\N|   8055|\n",
            "|200507|AirTran Airways| FL|AirTran Airways| FL|     Domestic|                 US|      Enplaned|Low Fare| \\N|  \\N|   7984|  \\N|   7984|\n",
            "|200507|Alaska Airlines| AS|Alaska Airlines| AS|     Domestic|                 US|      Deplaned|   Other| \\N|  \\N|  36641|  \\N|  36641|\n",
            "|200507|Alaska Airlines| AS|Alaska Airlines| AS|     Domestic|                 US|      Enplaned|   Other| \\N|  \\N|  39379|  \\N|  39379|\n",
            "|200507|Alaska Airlines| AS|Alaska Airlines| AS|     Domestic|                 US|Thru / Transit|   Other| \\N|  \\N|   3678|  \\N|   7356|\n",
            "|200507|Alaska Airlines| AS|Alaska Airlines| AS|International|             Canada|      Deplaned|   Other| \\N|  \\N|   7977|  \\N|   7977|\n",
            "|200507|Alaska Airlines| AS|Alaska Airlines| AS|International|             Canada|      Enplaned|   Other| \\N|  \\N|   8837|  \\N|   8837|\n",
            "|200507|Alaska Airlines| AS|Alaska Airlines| AS|International|             Mexico|      Deplaned|   Other| \\N|  \\N|   6969|  \\N|   6969|\n",
            "|200507|Alaska Airlines| AS|Alaska Airlines| AS|International|             Mexico|      Enplaned|   Other| \\N|  \\N|  10046|  \\N|  10046|\n",
            "|200507|Alaska Airlines| AS|Alaska Airlines| AS|International|             Mexico|Thru / Transit|   Other| \\N|  \\N|   2266|  \\N|   4532|\n",
            "+------+---------------+---+---------------+---+-------------+-------------------+--------------+--------+---+----+-------+----+-------+\n",
            "only showing top 20 rows\n",
            "\n"
          ]
        }
      ]
    },
    {
      "cell_type": "code",
      "metadata": {
        "id": "q9O-YUUSi1Vs"
      },
      "source": [
        "from pyspark.sql.functions import *"
      ],
      "execution_count": 5,
      "outputs": []
    },
    {
      "cell_type": "code",
      "metadata": {
        "colab": {
          "base_uri": "https://localhost:8080/"
        },
        "id": "thHehsYfkEha",
        "outputId": "d5eb97be-7c19-46f6-de52-616dd4b7d534"
      },
      "source": [
        "df.printSchema()"
      ],
      "execution_count": 6,
      "outputs": [
        {
          "output_type": "stream",
          "name": "stdout",
          "text": [
            "root\n",
            " |-- 200507: integer (nullable = true)\n",
            " |-- ATA Airlines1: string (nullable = true)\n",
            " |-- TZ2: string (nullable = true)\n",
            " |-- ATA Airlines3: string (nullable = true)\n",
            " |-- TZ4: string (nullable = true)\n",
            " |-- Domestic: string (nullable = true)\n",
            " |-- US: string (nullable = true)\n",
            " |-- Deplaned: string (nullable = true)\n",
            " |-- Low Fare: string (nullable = true)\n",
            " |-- \\N9: string (nullable = true)\n",
            " |-- \\N10: string (nullable = true)\n",
            " |-- 2727111: integer (nullable = true)\n",
            " |-- \\N12: string (nullable = true)\n",
            " |-- 2727113: integer (nullable = true)\n",
            "\n"
          ]
        }
      ]
    },
    {
      "cell_type": "code",
      "metadata": {
        "colab": {
          "base_uri": "https://localhost:8080/"
        },
        "id": "rRnbpZBRY-3C",
        "outputId": "121723ad-2064-417a-817b-6c4c7512ec90"
      },
      "source": [
        "print(\"size of dataframe is \",(\"Rows :\",df.count(),\"Columns:\", len(df.columns)))"
      ],
      "execution_count": 7,
      "outputs": [
        {
          "output_type": "stream",
          "name": "stdout",
          "text": [
            "size of dataframe is  ('Rows :', 694, 'Columns:', 14)\n"
          ]
        }
      ]
    },
    {
      "cell_type": "code",
      "metadata": {
        "colab": {
          "base_uri": "https://localhost:8080/"
        },
        "id": "lZ4s5KDQaiI3",
        "outputId": "9a301a43-4483-4ca9-afb1-b41fcc59f4a6"
      },
      "source": [
        "dict_null = {col: df.filter(df[col].isNull()).count() for col in df.columns}\n",
        "dict_null"
      ],
      "execution_count": 8,
      "outputs": [
        {
          "output_type": "execute_result",
          "data": {
            "text/plain": [
              "{'200507': 0,\n",
              " '2727111': 0,\n",
              " '2727113': 0,\n",
              " 'ATA Airlines1': 0,\n",
              " 'ATA Airlines3': 0,\n",
              " 'Deplaned': 0,\n",
              " 'Domestic': 0,\n",
              " 'Low Fare': 0,\n",
              " 'TZ2': 1,\n",
              " 'TZ4': 1,\n",
              " 'US': 0,\n",
              " '\\\\N10': 0,\n",
              " '\\\\N12': 0,\n",
              " '\\\\N9': 0}"
            ]
          },
          "metadata": {},
          "execution_count": 8
        }
      ]
    },
    {
      "cell_type": "markdown",
      "metadata": {
        "id": "XSfgqM4ecedt"
      },
      "source": [
        "## **Dropped columns having null values ['\\\\N10', '\\\\N12','\\\\N9']**"
      ]
    },
    {
      "cell_type": "code",
      "metadata": {
        "id": "CfRSHHnocTnr"
      },
      "source": [
        "columns_to_drop = ['\\\\N10', '\\\\N12','\\\\N9']\n",
        "df = df.drop(*columns_to_drop)"
      ],
      "execution_count": 9,
      "outputs": []
    },
    {
      "cell_type": "code",
      "metadata": {
        "colab": {
          "base_uri": "https://localhost:8080/"
        },
        "id": "5Rfm1ZVDa4f7",
        "outputId": "399ec58f-c767-4606-f069-b8ffbd7bf810"
      },
      "source": [
        "df.printSchema()"
      ],
      "execution_count": 10,
      "outputs": [
        {
          "output_type": "stream",
          "name": "stdout",
          "text": [
            "root\n",
            " |-- 200507: integer (nullable = true)\n",
            " |-- ATA Airlines1: string (nullable = true)\n",
            " |-- TZ2: string (nullable = true)\n",
            " |-- ATA Airlines3: string (nullable = true)\n",
            " |-- TZ4: string (nullable = true)\n",
            " |-- Domestic: string (nullable = true)\n",
            " |-- US: string (nullable = true)\n",
            " |-- Deplaned: string (nullable = true)\n",
            " |-- Low Fare: string (nullable = true)\n",
            " |-- 2727111: integer (nullable = true)\n",
            " |-- 2727113: integer (nullable = true)\n",
            "\n"
          ]
        }
      ]
    },
    {
      "cell_type": "code",
      "metadata": {
        "colab": {
          "base_uri": "https://localhost:8080/"
        },
        "id": "wgkKdnpFbSEg",
        "outputId": "65d2d102-bd14-45ae-e49b-8f91cf2204ad"
      },
      "source": [
        "df.show()"
      ],
      "execution_count": 11,
      "outputs": [
        {
          "output_type": "stream",
          "name": "stdout",
          "text": [
            "+------+---------------+---+---------------+---+-------------+-------------------+--------------+--------+-------+-------+\n",
            "|200507|  ATA Airlines1|TZ2|  ATA Airlines3|TZ4|     Domestic|                 US|      Deplaned|Low Fare|2727111|2727113|\n",
            "+------+---------------+---+---------------+---+-------------+-------------------+--------------+--------+-------+-------+\n",
            "|200507|   ATA Airlines| TZ|   ATA Airlines| TZ|     Domestic|                 US|      Enplaned|Low Fare|  29131|  29131|\n",
            "|200507|   ATA Airlines| TZ|   ATA Airlines| TZ|     Domestic|                 US|Thru / Transit|Low Fare|   5415|  10830|\n",
            "|200507|    Air Canada | AC|    Air Canada | AC|International|             Canada|      Deplaned|   Other|  35156|  35156|\n",
            "|200507|    Air Canada | AC|    Air Canada | AC|International|             Canada|      Enplaned|   Other|  34090|  34090|\n",
            "|200507|      Air China| CA|      Air China| CA|International|               Asia|      Deplaned|   Other|   6263|   6263|\n",
            "|200507|      Air China| CA|      Air China| CA|International|               Asia|      Enplaned|   Other|   5500|   5500|\n",
            "|200507|     Air France| AF|     Air France| AF|International|             Europe|      Deplaned|   Other|  12050|  12050|\n",
            "|200507|     Air France| AF|     Air France| AF|International|             Europe|      Enplaned|   Other|  11638|  11638|\n",
            "|200507|Air New Zealand| NZ|Air New Zealand| NZ|International|Australia / Oceania|      Deplaned|   Other|   4998|   4998|\n",
            "|200507|Air New Zealand| NZ|Air New Zealand| NZ|International|Australia / Oceania|      Enplaned|   Other|   4962|   4962|\n",
            "|200507|AirTran Airways| FL|AirTran Airways| FL|     Domestic|                 US|      Deplaned|Low Fare|   8055|   8055|\n",
            "|200507|AirTran Airways| FL|AirTran Airways| FL|     Domestic|                 US|      Enplaned|Low Fare|   7984|   7984|\n",
            "|200507|Alaska Airlines| AS|Alaska Airlines| AS|     Domestic|                 US|      Deplaned|   Other|  36641|  36641|\n",
            "|200507|Alaska Airlines| AS|Alaska Airlines| AS|     Domestic|                 US|      Enplaned|   Other|  39379|  39379|\n",
            "|200507|Alaska Airlines| AS|Alaska Airlines| AS|     Domestic|                 US|Thru / Transit|   Other|   3678|   7356|\n",
            "|200507|Alaska Airlines| AS|Alaska Airlines| AS|International|             Canada|      Deplaned|   Other|   7977|   7977|\n",
            "|200507|Alaska Airlines| AS|Alaska Airlines| AS|International|             Canada|      Enplaned|   Other|   8837|   8837|\n",
            "|200507|Alaska Airlines| AS|Alaska Airlines| AS|International|             Mexico|      Deplaned|   Other|   6969|   6969|\n",
            "|200507|Alaska Airlines| AS|Alaska Airlines| AS|International|             Mexico|      Enplaned|   Other|  10046|  10046|\n",
            "|200507|Alaska Airlines| AS|Alaska Airlines| AS|International|             Mexico|Thru / Transit|   Other|   2266|   4532|\n",
            "+------+---------------+---+---------------+---+-------------+-------------------+--------------+--------+-------+-------+\n",
            "only showing top 20 rows\n",
            "\n"
          ]
        }
      ]
    },
    {
      "cell_type": "code",
      "metadata": {
        "colab": {
          "base_uri": "https://localhost:8080/"
        },
        "id": "QuaoPLUmcCRW",
        "outputId": "627e8ac5-66b9-45a1-8022-bb5e2bae2f55"
      },
      "source": [
        "df.na.drop().show() # Dropping all null values"
      ],
      "execution_count": 12,
      "outputs": [
        {
          "output_type": "stream",
          "name": "stdout",
          "text": [
            "+------+---------------+---+---------------+---+-------------+-------------------+--------------+--------+-------+-------+\n",
            "|200507|  ATA Airlines1|TZ2|  ATA Airlines3|TZ4|     Domestic|                 US|      Deplaned|Low Fare|2727111|2727113|\n",
            "+------+---------------+---+---------------+---+-------------+-------------------+--------------+--------+-------+-------+\n",
            "|200507|   ATA Airlines| TZ|   ATA Airlines| TZ|     Domestic|                 US|      Enplaned|Low Fare|  29131|  29131|\n",
            "|200507|   ATA Airlines| TZ|   ATA Airlines| TZ|     Domestic|                 US|Thru / Transit|Low Fare|   5415|  10830|\n",
            "|200507|    Air Canada | AC|    Air Canada | AC|International|             Canada|      Deplaned|   Other|  35156|  35156|\n",
            "|200507|    Air Canada | AC|    Air Canada | AC|International|             Canada|      Enplaned|   Other|  34090|  34090|\n",
            "|200507|      Air China| CA|      Air China| CA|International|               Asia|      Deplaned|   Other|   6263|   6263|\n",
            "|200507|      Air China| CA|      Air China| CA|International|               Asia|      Enplaned|   Other|   5500|   5500|\n",
            "|200507|     Air France| AF|     Air France| AF|International|             Europe|      Deplaned|   Other|  12050|  12050|\n",
            "|200507|     Air France| AF|     Air France| AF|International|             Europe|      Enplaned|   Other|  11638|  11638|\n",
            "|200507|Air New Zealand| NZ|Air New Zealand| NZ|International|Australia / Oceania|      Deplaned|   Other|   4998|   4998|\n",
            "|200507|Air New Zealand| NZ|Air New Zealand| NZ|International|Australia / Oceania|      Enplaned|   Other|   4962|   4962|\n",
            "|200507|AirTran Airways| FL|AirTran Airways| FL|     Domestic|                 US|      Deplaned|Low Fare|   8055|   8055|\n",
            "|200507|AirTran Airways| FL|AirTran Airways| FL|     Domestic|                 US|      Enplaned|Low Fare|   7984|   7984|\n",
            "|200507|Alaska Airlines| AS|Alaska Airlines| AS|     Domestic|                 US|      Deplaned|   Other|  36641|  36641|\n",
            "|200507|Alaska Airlines| AS|Alaska Airlines| AS|     Domestic|                 US|      Enplaned|   Other|  39379|  39379|\n",
            "|200507|Alaska Airlines| AS|Alaska Airlines| AS|     Domestic|                 US|Thru / Transit|   Other|   3678|   7356|\n",
            "|200507|Alaska Airlines| AS|Alaska Airlines| AS|International|             Canada|      Deplaned|   Other|   7977|   7977|\n",
            "|200507|Alaska Airlines| AS|Alaska Airlines| AS|International|             Canada|      Enplaned|   Other|   8837|   8837|\n",
            "|200507|Alaska Airlines| AS|Alaska Airlines| AS|International|             Mexico|      Deplaned|   Other|   6969|   6969|\n",
            "|200507|Alaska Airlines| AS|Alaska Airlines| AS|International|             Mexico|      Enplaned|   Other|  10046|  10046|\n",
            "|200507|Alaska Airlines| AS|Alaska Airlines| AS|International|             Mexico|Thru / Transit|   Other|   2266|   4532|\n",
            "+------+---------------+---+---------------+---+-------------+-------------------+--------------+--------+-------+-------+\n",
            "only showing top 20 rows\n",
            "\n"
          ]
        }
      ]
    },
    {
      "cell_type": "code",
      "metadata": {
        "colab": {
          "base_uri": "https://localhost:8080/"
        },
        "id": "JQqBuUXAeA8Y",
        "outputId": "e0035c88-27d4-4182-d7fb-32bfeb20c7ab"
      },
      "source": [
        "df.withColumnRenamed(\"2727111\",\"Passesnger_Count\").printSchema()\n",
        "df.withColumnRenamed(\"2727113\",\"Adjusted_Passesnger_Count\").printSchema()"
      ],
      "execution_count": 19,
      "outputs": [
        {
          "output_type": "stream",
          "name": "stdout",
          "text": [
            "root\n",
            " |-- 200507: integer (nullable = true)\n",
            " |-- ATA Airlines1: string (nullable = true)\n",
            " |-- TZ2: string (nullable = true)\n",
            " |-- ATA Airlines3: string (nullable = true)\n",
            " |-- TZ4: string (nullable = true)\n",
            " |-- Domestic: string (nullable = true)\n",
            " |-- US: string (nullable = true)\n",
            " |-- Deplaned: string (nullable = true)\n",
            " |-- Low Fare: string (nullable = true)\n",
            " |-- Passesnger_Count: integer (nullable = true)\n",
            " |-- 2727113: integer (nullable = true)\n",
            "\n",
            "root\n",
            " |-- 200507: integer (nullable = true)\n",
            " |-- ATA Airlines1: string (nullable = true)\n",
            " |-- TZ2: string (nullable = true)\n",
            " |-- ATA Airlines3: string (nullable = true)\n",
            " |-- TZ4: string (nullable = true)\n",
            " |-- Domestic: string (nullable = true)\n",
            " |-- US: string (nullable = true)\n",
            " |-- Deplaned: string (nullable = true)\n",
            " |-- Low Fare: string (nullable = true)\n",
            " |-- 2727111: integer (nullable = true)\n",
            " |-- Adjusted_Passesnger_Count: integer (nullable = true)\n",
            "\n"
          ]
        }
      ]
    },
    {
      "cell_type": "code",
      "metadata": {
        "colab": {
          "base_uri": "https://localhost:8080/"
        },
        "id": "h4DwFPK6hsln",
        "outputId": "866aba6f-1455-429e-e289-3bbb40e5ea7a"
      },
      "source": [
        "df.columns"
      ],
      "execution_count": 20,
      "outputs": [
        {
          "output_type": "execute_result",
          "data": {
            "text/plain": [
              "['200507',\n",
              " 'ATA Airlines1',\n",
              " 'TZ2',\n",
              " 'ATA Airlines3',\n",
              " 'TZ4',\n",
              " 'Domestic',\n",
              " 'US',\n",
              " 'Deplaned',\n",
              " 'Low Fare',\n",
              " '2727111',\n",
              " '2727113']"
            ]
          },
          "metadata": {},
          "execution_count": 20
        }
      ]
    },
    {
      "cell_type": "code",
      "metadata": {
        "colab": {
          "base_uri": "https://localhost:8080/"
        },
        "id": "C3Zv3pBv4iWn",
        "outputId": "f575217f-4ac8-47fa-b7ff-79c2bbb9a742"
      },
      "source": [
        "df.columns"
      ],
      "execution_count": 21,
      "outputs": [
        {
          "output_type": "execute_result",
          "data": {
            "text/plain": [
              "['200507',\n",
              " 'ATA Airlines1',\n",
              " 'TZ2',\n",
              " 'ATA Airlines3',\n",
              " 'TZ4',\n",
              " 'Domestic',\n",
              " 'US',\n",
              " 'Deplaned',\n",
              " 'Low Fare',\n",
              " '2727111',\n",
              " '2727113']"
            ]
          },
          "metadata": {},
          "execution_count": 21
        }
      ]
    },
    {
      "cell_type": "code",
      "metadata": {
        "colab": {
          "base_uri": "https://localhost:8080/"
        },
        "id": "7qUvVMo4x0wn",
        "outputId": "a9b8bc81-6a3f-44d3-b1df-bb6139500a32"
      },
      "source": [
        "Data_list = ['200507',\n",
        " 'ATA Airlines1',\n",
        " 'TZ2',\n",
        " 'ATA Airlines3',\n",
        " 'TZ4',\n",
        " 'Domestic',\n",
        " 'US',\n",
        " 'Deplaned',\n",
        " 'Low Fare',\n",
        " 'Passesnger_Count',\n",
        " 'Adjust_Passesnger_Count']\n",
        " \n",
        "data = df.toDF(*Data_list)\n",
        "data.show()"
      ],
      "execution_count": 23,
      "outputs": [
        {
          "output_type": "stream",
          "name": "stdout",
          "text": [
            "+------+---------------+---+---------------+---+-------------+-------------------+--------------+--------+----------------+-----------------------+\n",
            "|200507|  ATA Airlines1|TZ2|  ATA Airlines3|TZ4|     Domestic|                 US|      Deplaned|Low Fare|Passesnger_Count|Adjust_Passesnger_Count|\n",
            "+------+---------------+---+---------------+---+-------------+-------------------+--------------+--------+----------------+-----------------------+\n",
            "|200507|   ATA Airlines| TZ|   ATA Airlines| TZ|     Domestic|                 US|      Enplaned|Low Fare|           29131|                  29131|\n",
            "|200507|   ATA Airlines| TZ|   ATA Airlines| TZ|     Domestic|                 US|Thru / Transit|Low Fare|            5415|                  10830|\n",
            "|200507|    Air Canada | AC|    Air Canada | AC|International|             Canada|      Deplaned|   Other|           35156|                  35156|\n",
            "|200507|    Air Canada | AC|    Air Canada | AC|International|             Canada|      Enplaned|   Other|           34090|                  34090|\n",
            "|200507|      Air China| CA|      Air China| CA|International|               Asia|      Deplaned|   Other|            6263|                   6263|\n",
            "|200507|      Air China| CA|      Air China| CA|International|               Asia|      Enplaned|   Other|            5500|                   5500|\n",
            "|200507|     Air France| AF|     Air France| AF|International|             Europe|      Deplaned|   Other|           12050|                  12050|\n",
            "|200507|     Air France| AF|     Air France| AF|International|             Europe|      Enplaned|   Other|           11638|                  11638|\n",
            "|200507|Air New Zealand| NZ|Air New Zealand| NZ|International|Australia / Oceania|      Deplaned|   Other|            4998|                   4998|\n",
            "|200507|Air New Zealand| NZ|Air New Zealand| NZ|International|Australia / Oceania|      Enplaned|   Other|            4962|                   4962|\n",
            "|200507|AirTran Airways| FL|AirTran Airways| FL|     Domestic|                 US|      Deplaned|Low Fare|            8055|                   8055|\n",
            "|200507|AirTran Airways| FL|AirTran Airways| FL|     Domestic|                 US|      Enplaned|Low Fare|            7984|                   7984|\n",
            "|200507|Alaska Airlines| AS|Alaska Airlines| AS|     Domestic|                 US|      Deplaned|   Other|           36641|                  36641|\n",
            "|200507|Alaska Airlines| AS|Alaska Airlines| AS|     Domestic|                 US|      Enplaned|   Other|           39379|                  39379|\n",
            "|200507|Alaska Airlines| AS|Alaska Airlines| AS|     Domestic|                 US|Thru / Transit|   Other|            3678|                   7356|\n",
            "|200507|Alaska Airlines| AS|Alaska Airlines| AS|International|             Canada|      Deplaned|   Other|            7977|                   7977|\n",
            "|200507|Alaska Airlines| AS|Alaska Airlines| AS|International|             Canada|      Enplaned|   Other|            8837|                   8837|\n",
            "|200507|Alaska Airlines| AS|Alaska Airlines| AS|International|             Mexico|      Deplaned|   Other|            6969|                   6969|\n",
            "|200507|Alaska Airlines| AS|Alaska Airlines| AS|International|             Mexico|      Enplaned|   Other|           10046|                  10046|\n",
            "|200507|Alaska Airlines| AS|Alaska Airlines| AS|International|             Mexico|Thru / Transit|   Other|            2266|                   4532|\n",
            "+------+---------------+---+---------------+---+-------------+-------------------+--------------+--------+----------------+-----------------------+\n",
            "only showing top 20 rows\n",
            "\n"
          ]
        }
      ]
    },
    {
      "cell_type": "code",
      "metadata": {
        "colab": {
          "base_uri": "https://localhost:8080/"
        },
        "id": "2jm_x54Z_Qzf",
        "outputId": "134627fe-f68d-4dbf-e721-2e998c2de497"
      },
      "source": [
        "data.select(skewness(\"Passesnger_Count\"), kurtosis(\"Passesnger_Count\")).show()"
      ],
      "execution_count": 33,
      "outputs": [
        {
          "output_type": "stream",
          "name": "stdout",
          "text": [
            "+--------------------------+--------------------------+\n",
            "|skewness(Passesnger_Count)|kurtosis(Passesnger_Count)|\n",
            "+--------------------------+--------------------------+\n",
            "|         5.317637477302453|        31.792673966706005|\n",
            "+--------------------------+--------------------------+\n",
            "\n"
          ]
        }
      ]
    },
    {
      "cell_type": "code",
      "metadata": {
        "colab": {
          "base_uri": "https://localhost:8080/"
        },
        "id": "SLJkkFs5677t",
        "outputId": "c1169b84-e614-460e-f841-36d07685845b"
      },
      "source": [
        "data.select(var_pop(\"Passesnger_Count\"),var_samp(\"Passesnger_Count\"), stddev(\"Passesnger_Count\"),stddev_samp(\"Passesnger_Count\")).show()"
      ],
      "execution_count": 31,
      "outputs": [
        {
          "output_type": "stream",
          "name": "stdout",
          "text": [
            "+-------------------------+--------------------------+-----------------------------+-----------------------------+\n",
            "|var_pop(Passesnger_Count)|var_samp(Passesnger_Count)|stddev_samp(Passesnger_Count)|stddev_samp(Passesnger_Count)|\n",
            "+-------------------------+--------------------------+-----------------------------+-----------------------------+\n",
            "|      3.000224203653493E9|      3.0045535315086927E9|           54813.807854487655|           54813.807854487655|\n",
            "+-------------------------+--------------------------+-----------------------------+-----------------------------+\n",
            "\n"
          ]
        }
      ]
    },
    {
      "cell_type": "code",
      "metadata": {
        "colab": {
          "base_uri": "https://localhost:8080/"
        },
        "id": "EkyTs7Q-B8YW",
        "outputId": "b5933a20-264c-44ee-c5d2-e4ffaa4da008"
      },
      "source": [
        "for i in data.columns:\n",
        "  print(i)"
      ],
      "execution_count": 35,
      "outputs": [
        {
          "output_type": "stream",
          "name": "stdout",
          "text": [
            "200507\n",
            "ATA Airlines1\n",
            "TZ2\n",
            "ATA Airlines3\n",
            "TZ4\n",
            "Domestic\n",
            "US\n",
            "Deplaned\n",
            "Low Fare\n",
            "Passesnger_Count\n",
            "Adjust_Passesnger_Count\n"
          ]
        }
      ]
    },
    {
      "cell_type": "code",
      "metadata": {
        "colab": {
          "base_uri": "https://localhost:8080/"
        },
        "id": "nIChpiaA_KkS",
        "outputId": "b1287ae3-07e8-4193-cb26-1772e262cb07"
      },
      "source": [
        "for i in data.columns:\n",
        "  data.groupBy(i).count().show()\n"
      ],
      "execution_count": 37,
      "outputs": [
        {
          "output_type": "stream",
          "name": "stdout",
          "text": [
            "+------+-----+\n",
            "|200507|count|\n",
            "+------+-----+\n",
            "|200511|  113|\n",
            "|200508|  118|\n",
            "|200510|  118|\n",
            "|200507|  114|\n",
            "|200512|  112|\n",
            "|200509|  119|\n",
            "+------+-----+\n",
            "\n",
            "+--------------------+-----+\n",
            "|       ATA Airlines1|count|\n",
            "+--------------------+-----+\n",
            "|          Icelandair|    8|\n",
            "|      Cathay Pacific|   12|\n",
            "| Philippine Airlines|   12|\n",
            "|United Airlines -...|  127|\n",
            "|    Independence Air|   10|\n",
            "|Miami Air Interna...|    1|\n",
            "|          Air France|   12|\n",
            "|      Japan Airlines|   12|\n",
            "|    Midwest Airlines|   12|\n",
            "|   Mexicana Airlines|   12|\n",
            "|         Air Canada |   12|\n",
            "|  Northwest Airlines|   24|\n",
            "|Sun Country Airlines|   12|\n",
            "|        Horizon Air |   12|\n",
            "|     United Airlines|   12|\n",
            "|     British Airways|   12|\n",
            "|   Hawaiian Airlines|   12|\n",
            "|     Virgin Atlantic|   12|\n",
            "|                TACA|   12|\n",
            "|KLM Royal Dutch A...|   12|\n",
            "+--------------------+-----+\n",
            "only showing top 20 rows\n",
            "\n",
            "+---+-----+\n",
            "|TZ2|count|\n",
            "+---+-----+\n",
            "| CI|   12|\n",
            "| FI|    8|\n",
            "|US |   24|\n",
            "| UA|  139|\n",
            "| AA|   12|\n",
            "| MX|   12|\n",
            "| GL|    1|\n",
            "| NW|   24|\n",
            "| EV|    4|\n",
            "| CX|   12|\n",
            "| NH|   12|\n",
            "| KL|   12|\n",
            "| CA|   12|\n",
            "| DL|   20|\n",
            "| BR|   12|\n",
            "| 4T|    6|\n",
            "| OO|   36|\n",
            "| F9|   12|\n",
            "| YV|   12|\n",
            "| TZ|   19|\n",
            "+---+-----+\n",
            "only showing top 20 rows\n",
            "\n",
            "+--------------------+-----+\n",
            "|       ATA Airlines3|count|\n",
            "+--------------------+-----+\n",
            "|          Icelandair|    8|\n",
            "|      Cathay Pacific|   12|\n",
            "| Philippine Airlines|   12|\n",
            "|United Airlines -...|  151|\n",
            "|    Independence Air|   10|\n",
            "|Miami Air Interna...|    1|\n",
            "|          Air France|   12|\n",
            "|      Japan Airlines|   12|\n",
            "|    Midwest Airlines|   12|\n",
            "|   Mexicana Airlines|   12|\n",
            "|         Air Canada |   14|\n",
            "|  Northwest Airlines|   24|\n",
            "|Sun Country Airlines|   12|\n",
            "|     United Airlines|   12|\n",
            "|     British Airways|   12|\n",
            "|   Hawaiian Airlines|   12|\n",
            "|     Virgin Atlantic|   12|\n",
            "|                TACA|   12|\n",
            "|KLM Royal Dutch A...|   12|\n",
            "|      Boeing Company|    1|\n",
            "+--------------------+-----+\n",
            "only showing top 20 rows\n",
            "\n",
            "+---+-----+\n",
            "|TZ4|count|\n",
            "+---+-----+\n",
            "| CI|   12|\n",
            "| FI|    8|\n",
            "|US |   36|\n",
            "| UA|  163|\n",
            "| AA|   24|\n",
            "| MX|   12|\n",
            "| GL|    1|\n",
            "| NW|   24|\n",
            "| CX|   12|\n",
            "| NH|   12|\n",
            "| KL|   12|\n",
            "| CA|   12|\n",
            "| DL|   36|\n",
            "| BR|   12|\n",
            "| 4T|    6|\n",
            "| F9|   12|\n",
            "| TZ|   19|\n",
            "| LH|   12|\n",
            "| VS|   12|\n",
            "| HA|   12|\n",
            "+---+-----+\n",
            "only showing top 20 rows\n",
            "\n",
            "+-------------+-----+\n",
            "|     Domestic|count|\n",
            "+-------------+-----+\n",
            "|International|  405|\n",
            "|     Domestic|  289|\n",
            "+-------------+-----+\n",
            "\n",
            "+-------------------+-----+\n",
            "|                 US|count|\n",
            "+-------------------+-----+\n",
            "|             Europe|   92|\n",
            "|    Central America|   12|\n",
            "|                 US|  289|\n",
            "|             Mexico|   48|\n",
            "|             Canada|   73|\n",
            "|Australia / Oceania|   30|\n",
            "|               Asia|  150|\n",
            "+-------------------+-----+\n",
            "\n",
            "+--------------+-----+\n",
            "|      Deplaned|count|\n",
            "+--------------+-----+\n",
            "|      Enplaned|  317|\n",
            "|Thru / Transit|   59|\n",
            "|      Deplaned|  318|\n",
            "+--------------+-----+\n",
            "\n",
            "+--------+-----+\n",
            "|Low Fare|count|\n",
            "+--------+-----+\n",
            "|   Other|  597|\n",
            "|Low Fare|   97|\n",
            "+--------+-----+\n",
            "\n",
            "+----------------+-----+\n",
            "|Passesnger_Count|count|\n",
            "+----------------+-----+\n",
            "|            6658|    1|\n",
            "|            8086|    1|\n",
            "|           34878|    1|\n",
            "|           19200|    1|\n",
            "|           26801|    1|\n",
            "|            9383|    1|\n",
            "|            6559|    1|\n",
            "|            7850|    1|\n",
            "|            3986|    1|\n",
            "|            6962|    1|\n",
            "|            7324|    1|\n",
            "|            3790|    1|\n",
            "|           33243|    1|\n",
            "|            5847|    1|\n",
            "|           22389|    1|\n",
            "|           27472|    1|\n",
            "|            5140|    1|\n",
            "|            4583|    1|\n",
            "|            5929|    1|\n",
            "|            8612|    1|\n",
            "+----------------+-----+\n",
            "only showing top 20 rows\n",
            "\n",
            "+-----------------------+-----+\n",
            "|Adjust_Passesnger_Count|count|\n",
            "+-----------------------+-----+\n",
            "|                   6658|    1|\n",
            "|                   8086|    1|\n",
            "|                  34878|    1|\n",
            "|                  19200|    1|\n",
            "|                  26801|    1|\n",
            "|                   1352|    1|\n",
            "|                   9383|    1|\n",
            "|                   6559|    1|\n",
            "|                   7850|    1|\n",
            "|                   3986|    1|\n",
            "|                   6962|    1|\n",
            "|                   7324|    1|\n",
            "|                   3790|    1|\n",
            "|                  33243|    1|\n",
            "|                   5847|    1|\n",
            "|                  22389|    1|\n",
            "|                  27472|    1|\n",
            "|                   5140|    1|\n",
            "|                   4583|    1|\n",
            "|                   5929|    1|\n",
            "+-----------------------+-----+\n",
            "only showing top 20 rows\n",
            "\n"
          ]
        }
      ]
    },
    {
      "cell_type": "code",
      "metadata": {
        "colab": {
          "base_uri": "https://localhost:8080/"
        },
        "id": "M5sWWgv3Bk8Y",
        "outputId": "1dbf8bb0-1508-46ee-affc-97e1e38c5b12"
      },
      "source": [
        "for i in data.columns:\n",
        "  data.groupBy(i,'Passesnger_Count').count().show()"
      ],
      "execution_count": 40,
      "outputs": [
        {
          "output_type": "stream",
          "name": "stdout",
          "text": [
            "+------+----------------+-----+\n",
            "|200507|Passesnger_Count|count|\n",
            "+------+----------------+-----+\n",
            "|200507|            9672|    1|\n",
            "|200509|            1504|    1|\n",
            "|200510|           10360|    1|\n",
            "|200507|           29283|    1|\n",
            "|200508|           11230|    1|\n",
            "|200508|            5946|    1|\n",
            "|200509|            5218|    1|\n",
            "|200509|           50133|    1|\n",
            "|200510|            8919|    1|\n",
            "|200512|           90313|    1|\n",
            "|200512|            9418|    1|\n",
            "|200508|           11731|    1|\n",
            "|200509|            7057|    1|\n",
            "|200509|            4823|    1|\n",
            "|200511|            5921|    1|\n",
            "|200511|           47813|    1|\n",
            "|200512|            4261|    1|\n",
            "|200510|           14694|    1|\n",
            "|200511|            6199|    1|\n",
            "|200508|            9333|    1|\n",
            "+------+----------------+-----+\n",
            "only showing top 20 rows\n",
            "\n",
            "+--------------------+----------------+-----+\n",
            "|       ATA Airlines1|Passesnger_Count|count|\n",
            "+--------------------+----------------+-----+\n",
            "|     Alaska Airlines|           39379|    1|\n",
            "|United Airlines -...|            1264|    1|\n",
            "|KLM Royal Dutch A...|            9881|    1|\n",
            "|United Airlines -...|             476|    1|\n",
            "|     Delta Air Lines|           68347|    1|\n",
            "|Sun Country Airlines|            4717|    1|\n",
            "|United Airlines -...|             158|    1|\n",
            "|   Frontier Airlines|           13049|    1|\n",
            "|     Alaska Airlines|            3843|    1|\n",
            "|United Airlines -...|             230|    1|\n",
            "|        Horizon Air |            4470|    1|\n",
            "|          Air France|            7121|    1|\n",
            "|    SkyWest Airlines|            6431|    1|\n",
            "|          Air France|            7158|    1|\n",
            "|     Delta Air Lines|           22322|    1|\n",
            "|    SkyWest Airlines|          102254|    1|\n",
            "|    Korean Air Lines|            6153|    1|\n",
            "|                TACA|            4259|    1|\n",
            "|American Eagle Ai...|            5213|    1|\n",
            "|     British Airways|           21686|    1|\n",
            "+--------------------+----------------+-----+\n",
            "only showing top 20 rows\n",
            "\n",
            "+---+----------------+-----+\n",
            "|TZ2|Passesnger_Count|count|\n",
            "+---+----------------+-----+\n",
            "| UA|           26098|    1|\n",
            "| UA|          355445|    1|\n",
            "| AA|          160890|    1|\n",
            "| NW|            7229|    1|\n",
            "| NW|           48138|    1|\n",
            "| UA|             158|    1|\n",
            "| MQ|            4313|    1|\n",
            "| SQ|           19192|    1|\n",
            "| UA|           62840|    1|\n",
            "| BR|           14142|    1|\n",
            "| MX|            5946|    1|\n",
            "| HA|            6792|    1|\n",
            "| OO|           89742|    1|\n",
            "| NH|            6545|    1|\n",
            "| VS|           11084|    1|\n",
            "| BA|           20635|    1|\n",
            "| OO|            3719|    1|\n",
            "| TZ|           16855|    1|\n",
            "| NW|            6520|    1|\n",
            "| AF|           10796|    1|\n",
            "+---+----------------+-----+\n",
            "only showing top 20 rows\n",
            "\n",
            "+--------------------+----------------+-----+\n",
            "|       ATA Airlines3|Passesnger_Count|count|\n",
            "+--------------------+----------------+-----+\n",
            "|     Alaska Airlines|           39379|    1|\n",
            "|United Airlines -...|            1264|    1|\n",
            "|KLM Royal Dutch A...|            9881|    1|\n",
            "|United Airlines -...|             476|    1|\n",
            "|     Delta Air Lines|           68347|    1|\n",
            "|     Delta Air Lines|            6666|    1|\n",
            "|Sun Country Airlines|            4717|    1|\n",
            "|United Airlines -...|             158|    1|\n",
            "|   Frontier Airlines|           13049|    1|\n",
            "|United Airlines -...|            3188|    1|\n",
            "|     Alaska Airlines|            3843|    1|\n",
            "|United Airlines -...|             230|    1|\n",
            "|          Air France|            7121|    1|\n",
            "|          Air France|            7158|    1|\n",
            "|     Delta Air Lines|           22322|    1|\n",
            "|    Korean Air Lines|            6153|    1|\n",
            "|                TACA|            4259|    1|\n",
            "|     British Airways|           21686|    1|\n",
            "|     Delta Air Lines|            6472|    1|\n",
            "|     British Airways|           18988|    1|\n",
            "+--------------------+----------------+-----+\n",
            "only showing top 20 rows\n",
            "\n",
            "+---+----------------+-----+\n",
            "|TZ4|Passesnger_Count|count|\n",
            "+---+----------------+-----+\n",
            "| UA|           26098|    1|\n",
            "| UA|          355445|    1|\n",
            "| AA|          160890|    1|\n",
            "| NW|            7229|    1|\n",
            "| NW|           48138|    1|\n",
            "| UA|             158|    1|\n",
            "| SQ|           19192|    1|\n",
            "| UA|           62840|    1|\n",
            "| BR|           14142|    1|\n",
            "| MX|            5946|    1|\n",
            "| AS|            4096|    1|\n",
            "| HA|            6792|    1|\n",
            "| NH|            6545|    1|\n",
            "| VS|           11084|    1|\n",
            "| DL|            6553|    1|\n",
            "| DL|            6652|    1|\n",
            "| UA|            3570|    1|\n",
            "| BA|           20635|    1|\n",
            "| UA|            3457|    1|\n",
            "| TZ|           16855|    1|\n",
            "+---+----------------+-----+\n",
            "only showing top 20 rows\n",
            "\n",
            "+-------------+----------------+-----+\n",
            "|     Domestic|Passesnger_Count|count|\n",
            "+-------------+----------------+-----+\n",
            "|International|            9562|    1|\n",
            "|International|           11311|    1|\n",
            "|     Domestic|           40712|    1|\n",
            "|International|            9931|    1|\n",
            "|International|           62403|    1|\n",
            "|International|            5011|    1|\n",
            "|     Domestic|            2984|    1|\n",
            "|International|           13638|    1|\n",
            "|International|           34878|    1|\n",
            "|     Domestic|          101134|    1|\n",
            "|     Domestic|           46200|    1|\n",
            "|     Domestic|           47813|    1|\n",
            "|     Domestic|           16790|    1|\n",
            "|International|           11266|    1|\n",
            "|     Domestic|            4412|    1|\n",
            "|International|            7875|    1|\n",
            "|International|              96|    1|\n",
            "|International|            8048|    1|\n",
            "|International|            8919|    1|\n",
            "|     Domestic|           34920|    1|\n",
            "+-------------+----------------+-----+\n",
            "only showing top 20 rows\n",
            "\n",
            "+------+----------------+-----+\n",
            "|    US|Passesnger_Count|count|\n",
            "+------+----------------+-----+\n",
            "|    US|            7579|    1|\n",
            "|    US|            2535|    1|\n",
            "|    US|           44508|    1|\n",
            "|    US|            4313|    1|\n",
            "|  Asia|           11032|    1|\n",
            "|    US|            7737|    1|\n",
            "|Canada|             793|    1|\n",
            "|    US|           46907|    1|\n",
            "|Canada|              40|    1|\n",
            "|    US|            7195|    1|\n",
            "|    US|           26801|    1|\n",
            "|    US|           47525|    1|\n",
            "|  Asia|            9874|    1|\n",
            "|    US|           46348|    1|\n",
            "|Europe|           12050|    1|\n",
            "|Canada|            3570|    1|\n",
            "|  Asia|            7875|    1|\n",
            "|  Asia|            5669|    1|\n",
            "|    US|            6806|    1|\n",
            "|Europe|            9604|    1|\n",
            "+------+----------------+-----+\n",
            "only showing top 20 rows\n",
            "\n",
            "+--------------+----------------+-----+\n",
            "|      Deplaned|Passesnger_Count|count|\n",
            "+--------------+----------------+-----+\n",
            "|      Deplaned|            5940|    1|\n",
            "|      Deplaned|            9571|    1|\n",
            "|      Deplaned|            8612|    1|\n",
            "|      Enplaned|           68278|    1|\n",
            "|      Deplaned|            4669|    1|\n",
            "|      Deplaned|           38737|    1|\n",
            "|      Enplaned|            1638|    1|\n",
            "|      Deplaned|            7579|    1|\n",
            "|      Deplaned|           55842|    1|\n",
            "|      Deplaned|            4344|    1|\n",
            "|      Enplaned|             509|    1|\n",
            "|      Enplaned|           97160|    1|\n",
            "|      Deplaned|           17109|    1|\n",
            "|      Deplaned|             809|    1|\n",
            "|Thru / Transit|            7299|    1|\n",
            "|      Deplaned|            5493|    1|\n",
            "|      Deplaned|            2480|    1|\n",
            "|      Enplaned|            2211|    1|\n",
            "|      Deplaned|            5168|    1|\n",
            "|      Deplaned|            4085|    1|\n",
            "+--------------+----------------+-----+\n",
            "only showing top 20 rows\n",
            "\n",
            "+--------+----------------+-----+\n",
            "|Low Fare|Passesnger_Count|count|\n",
            "+--------+----------------+-----+\n",
            "|   Other|            7751|    2|\n",
            "|Low Fare|            5218|    1|\n",
            "|   Other|            7924|    1|\n",
            "|   Other|            6792|    1|\n",
            "|   Other|            4474|    1|\n",
            "|   Other|            3843|    1|\n",
            "|   Other|             759|    1|\n",
            "|   Other|           22422|    1|\n",
            "|   Other|           34920|    1|\n",
            "|   Other|            4768|    1|\n",
            "|   Other|            2535|    1|\n",
            "|   Other|            1253|    1|\n",
            "|   Other|            9751|    1|\n",
            "|   Other|           57401|    1|\n",
            "|   Other|            4823|    1|\n",
            "|   Other|            1326|    1|\n",
            "|   Other|           96832|    1|\n",
            "|Low Fare|            3508|    1|\n",
            "|   Other|            6153|    1|\n",
            "|Low Fare|           21390|    1|\n",
            "+--------+----------------+-----+\n",
            "only showing top 20 rows\n",
            "\n",
            "+----------------+----------------+-----+\n",
            "|Passesnger_Count|Passesnger_Count|count|\n",
            "+----------------+----------------+-----+\n",
            "|            6658|            6658|    1|\n",
            "|            8086|            8086|    1|\n",
            "|           34878|           34878|    1|\n",
            "|           19200|           19200|    1|\n",
            "|           26801|           26801|    1|\n",
            "|            9383|            9383|    1|\n",
            "|            6559|            6559|    1|\n",
            "|            7850|            7850|    1|\n",
            "|            3986|            3986|    1|\n",
            "|            6962|            6962|    1|\n",
            "|            7324|            7324|    1|\n",
            "|            3790|            3790|    1|\n",
            "|           33243|           33243|    1|\n",
            "|            5847|            5847|    1|\n",
            "|           22389|           22389|    1|\n",
            "|           27472|           27472|    1|\n",
            "|            5140|            5140|    1|\n",
            "|            4583|            4583|    1|\n",
            "|            5929|            5929|    1|\n",
            "|            8612|            8612|    1|\n",
            "+----------------+----------------+-----+\n",
            "only showing top 20 rows\n",
            "\n",
            "+-----------------------+----------------+-----+\n",
            "|Adjust_Passesnger_Count|Passesnger_Count|count|\n",
            "+-----------------------+----------------+-----+\n",
            "|                  20635|           20635|    1|\n",
            "|                   9486|            9486|    1|\n",
            "|                  14598|            7299|    1|\n",
            "|                  25505|           25505|    1|\n",
            "|                   5041|            5041|    1|\n",
            "|                  21571|           21571|    1|\n",
            "|                  17826|            8913|    1|\n",
            "|                  42622|           42622|    1|\n",
            "|                   1158|            1158|    1|\n",
            "|                   4672|            4672|    1|\n",
            "|                   7357|            7357|    1|\n",
            "|                  20535|           20535|    1|\n",
            "|                   2506|            1253|    1|\n",
            "|                  11792|           11792|    1|\n",
            "|                  15019|           15019|    1|\n",
            "|                 102899|          102899|    1|\n",
            "|                   5123|            5123|    1|\n",
            "|                   1638|            1638|    1|\n",
            "|                  10830|            5415|    1|\n",
            "|                   6324|            6324|    1|\n",
            "+-----------------------+----------------+-----+\n",
            "only showing top 20 rows\n",
            "\n"
          ]
        }
      ]
    },
    {
      "cell_type": "code",
      "metadata": {
        "colab": {
          "base_uri": "https://localhost:8080/"
        },
        "id": "gBy6FM6XDDKB",
        "outputId": "d43259cf-3e69-4ea4-c774-98fe3ad03041"
      },
      "source": [
        "for i in data.columns:\n",
        "  data.groupBy(i,'Adjust_Passesnger_Count').count().show()"
      ],
      "execution_count": 41,
      "outputs": [
        {
          "output_type": "stream",
          "name": "stdout",
          "text": [
            "+------+-----------------------+-----+\n",
            "|200507|Adjust_Passesnger_Count|count|\n",
            "+------+-----------------------+-----+\n",
            "|200507|                   9672|    1|\n",
            "|200510|                  10360|    1|\n",
            "|200507|                  29283|    1|\n",
            "|200508|                  11230|    1|\n",
            "|200508|                   5946|    1|\n",
            "|200509|                   5218|    1|\n",
            "|200509|                  50133|    1|\n",
            "|200510|                   8919|    1|\n",
            "|200512|                  90313|    1|\n",
            "|200512|                   9418|    1|\n",
            "|200508|                  11731|    1|\n",
            "|200509|                   7057|    1|\n",
            "|200509|                   4823|    1|\n",
            "|200511|                   5921|    1|\n",
            "|200511|                  47813|    1|\n",
            "|200512|                   4261|    1|\n",
            "|200510|                  14694|    1|\n",
            "|200511|                   6199|    1|\n",
            "|200508|                   9333|    1|\n",
            "|200508|                   2725|    1|\n",
            "+------+-----------------------+-----+\n",
            "only showing top 20 rows\n",
            "\n",
            "+--------------------+-----------------------+-----+\n",
            "|       ATA Airlines1|Adjust_Passesnger_Count|count|\n",
            "+--------------------+-----------------------+-----+\n",
            "|     Alaska Airlines|                  39379|    1|\n",
            "|KLM Royal Dutch A...|                   9881|    1|\n",
            "|United Airlines -...|                   2048|    1|\n",
            "|     Delta Air Lines|                  68347|    1|\n",
            "|Sun Country Airlines|                   4717|    1|\n",
            "|   Frontier Airlines|                  13049|    1|\n",
            "|        Horizon Air |                   4470|    1|\n",
            "|          Air France|                   7121|    1|\n",
            "|    SkyWest Airlines|                   6431|    1|\n",
            "|          Air France|                   7158|    1|\n",
            "|     Delta Air Lines|                  22322|    1|\n",
            "|    SkyWest Airlines|                 102254|    1|\n",
            "|    Korean Air Lines|                   6153|    1|\n",
            "|                TACA|                   4259|    1|\n",
            "|American Eagle Ai...|                   5213|    1|\n",
            "|     British Airways|                  21686|    1|\n",
            "|United Airlines -...|                   1726|    1|\n",
            "|United Airlines -...|                    952|    1|\n",
            "|        Horizon Air |                   4401|    1|\n",
            "|     British Airways|                  18988|    1|\n",
            "+--------------------+-----------------------+-----+\n",
            "only showing top 20 rows\n",
            "\n",
            "+---+-----------------------+-----+\n",
            "|TZ2|Adjust_Passesnger_Count|count|\n",
            "+---+-----------------------+-----+\n",
            "| UA|                  26098|    1|\n",
            "| UA|                 355445|    1|\n",
            "| AA|                 160890|    1|\n",
            "| NW|                   7229|    1|\n",
            "| NW|                  48138|    1|\n",
            "| MQ|                   4313|    1|\n",
            "| SQ|                  19192|    1|\n",
            "| UA|                   2092|    1|\n",
            "| UA|                  62840|    1|\n",
            "| BR|                  14142|    1|\n",
            "| MX|                   5946|    1|\n",
            "| HA|                   6792|    1|\n",
            "| OO|                  89742|    1|\n",
            "| NH|                   6545|    1|\n",
            "| UA|                     20|    2|\n",
            "| UA|                     90|    1|\n",
            "| VS|                  11084|    1|\n",
            "| UA|                   8118|    1|\n",
            "| BA|                  20635|    1|\n",
            "| OO|                   3719|    1|\n",
            "+---+-----------------------+-----+\n",
            "only showing top 20 rows\n",
            "\n",
            "+--------------------+-----------------------+-----+\n",
            "|       ATA Airlines3|Adjust_Passesnger_Count|count|\n",
            "+--------------------+-----------------------+-----+\n",
            "|     Alaska Airlines|                  39379|    1|\n",
            "|KLM Royal Dutch A...|                   9881|    1|\n",
            "|United Airlines -...|                   2048|    1|\n",
            "|     Delta Air Lines|                  68347|    1|\n",
            "|     Delta Air Lines|                   6666|    1|\n",
            "|Sun Country Airlines|                   4717|    1|\n",
            "|   Frontier Airlines|                  13049|    1|\n",
            "|United Airlines -...|                   3188|    1|\n",
            "|          Air France|                   7121|    1|\n",
            "|          Air France|                   7158|    1|\n",
            "|     Delta Air Lines|                  22322|    1|\n",
            "|    Korean Air Lines|                   6153|    1|\n",
            "|                TACA|                   4259|    1|\n",
            "|     British Airways|                  21686|    1|\n",
            "|United Airlines -...|                   1726|    1|\n",
            "|     Delta Air Lines|                   6472|    1|\n",
            "|United Airlines -...|                    952|    1|\n",
            "|     British Airways|                  18988|    1|\n",
            "|     Air New Zealand|                   4583|    1|\n",
            "|      China Airlines|                   9680|    1|\n",
            "+--------------------+-----------------------+-----+\n",
            "only showing top 20 rows\n",
            "\n",
            "+---+-----------------------+-----+\n",
            "|TZ4|Adjust_Passesnger_Count|count|\n",
            "+---+-----------------------+-----+\n",
            "| UA|                  26098|    1|\n",
            "| UA|                 355445|    1|\n",
            "| AA|                 160890|    1|\n",
            "| NW|                   7229|    1|\n",
            "| NW|                  48138|    1|\n",
            "| SQ|                  19192|    1|\n",
            "| UA|                   2092|    1|\n",
            "| UA|                  62840|    1|\n",
            "| BR|                  14142|    1|\n",
            "| MX|                   5946|    1|\n",
            "| AS|                   4096|    1|\n",
            "| HA|                   6792|    1|\n",
            "| NH|                   6545|    1|\n",
            "| UA|                     20|    2|\n",
            "| UA|                     90|    1|\n",
            "| VS|                  11084|    1|\n",
            "| DL|                   6553|    1|\n",
            "| DL|                   6652|    1|\n",
            "| UA|                   3570|    1|\n",
            "| UA|                   8118|    1|\n",
            "+---+-----------------------+-----+\n",
            "only showing top 20 rows\n",
            "\n",
            "+-------------+-----------------------+-----+\n",
            "|     Domestic|Adjust_Passesnger_Count|count|\n",
            "+-------------+-----------------------+-----+\n",
            "|International|                   4532|    1|\n",
            "|International|                   9562|    1|\n",
            "|International|                  11311|    1|\n",
            "|     Domestic|                  40712|    1|\n",
            "|International|                   9931|    1|\n",
            "|International|                  62403|    1|\n",
            "|International|                   5011|    1|\n",
            "|     Domestic|                   2984|    1|\n",
            "|International|                  13638|    1|\n",
            "|International|                  34878|    1|\n",
            "|     Domestic|                 101134|    1|\n",
            "|     Domestic|                  46200|    1|\n",
            "|     Domestic|                  47813|    1|\n",
            "|     Domestic|                  16790|    1|\n",
            "|International|                  11266|    1|\n",
            "|International|                   7875|    1|\n",
            "|     Domestic|                   7846|    1|\n",
            "|International|                   8048|    1|\n",
            "|International|                   8919|    1|\n",
            "|     Domestic|                  34920|    1|\n",
            "+-------------+-----------------------+-----+\n",
            "only showing top 20 rows\n",
            "\n",
            "+------+-----------------------+-----+\n",
            "|    US|Adjust_Passesnger_Count|count|\n",
            "+------+-----------------------+-----+\n",
            "|    US|                   7579|    1|\n",
            "|    US|                   2535|    1|\n",
            "|    US|                  44508|    1|\n",
            "|    US|                   4313|    1|\n",
            "|  Asia|                  11032|    1|\n",
            "|    US|                   7737|    1|\n",
            "|    US|                  46907|    1|\n",
            "|    US|                   7195|    1|\n",
            "|    US|                  26801|    1|\n",
            "|    US|                  47525|    1|\n",
            "|  Asia|                   9874|    1|\n",
            "|    US|                  46348|    1|\n",
            "|Europe|                  12050|    1|\n",
            "|Canada|                   3570|    1|\n",
            "|  Asia|                   7875|    1|\n",
            "|  Asia|                   5669|    1|\n",
            "|    US|                   6806|    1|\n",
            "|Europe|                   9604|    1|\n",
            "|  Asia|                   9050|    1|\n",
            "|Canada|                   3672|    1|\n",
            "+------+-----------------------+-----+\n",
            "only showing top 20 rows\n",
            "\n",
            "+--------------+-----------------------+-----+\n",
            "|      Deplaned|Adjust_Passesnger_Count|count|\n",
            "+--------------+-----------------------+-----+\n",
            "|      Deplaned|                   5940|    1|\n",
            "|      Deplaned|                   9571|    1|\n",
            "|      Deplaned|                   8612|    1|\n",
            "|      Enplaned|                  68278|    1|\n",
            "|      Deplaned|                   4669|    1|\n",
            "|      Deplaned|                  38737|    1|\n",
            "|      Enplaned|                   1638|    1|\n",
            "|      Deplaned|                   7579|    1|\n",
            "|      Deplaned|                  55842|    1|\n",
            "|      Deplaned|                   4344|    1|\n",
            "|      Enplaned|                    509|    1|\n",
            "|      Enplaned|                  97160|    1|\n",
            "|      Deplaned|                  17109|    1|\n",
            "|      Deplaned|                    809|    1|\n",
            "|      Deplaned|                   5493|    1|\n",
            "|      Deplaned|                   2480|    1|\n",
            "|      Enplaned|                   2211|    1|\n",
            "|      Deplaned|                   5168|    1|\n",
            "|      Deplaned|                   4085|    1|\n",
            "|Thru / Transit|                     90|    1|\n",
            "+--------------+-----------------------+-----+\n",
            "only showing top 20 rows\n",
            "\n",
            "+--------+-----------------------+-----+\n",
            "|Low Fare|Adjust_Passesnger_Count|count|\n",
            "+--------+-----------------------+-----+\n",
            "|   Other|                   7751|    2|\n",
            "|Low Fare|                   5218|    1|\n",
            "|   Other|                   7924|    1|\n",
            "|   Other|                   6792|    1|\n",
            "|   Other|                   4474|    1|\n",
            "|   Other|                  22422|    1|\n",
            "|   Other|                  34920|    1|\n",
            "|   Other|                   4768|    1|\n",
            "|   Other|                   2535|    1|\n",
            "|   Other|                   9751|    1|\n",
            "|   Other|                   1218|    1|\n",
            "|   Other|                  57401|    1|\n",
            "|   Other|                    952|    1|\n",
            "|   Other|                   4823|    1|\n",
            "|   Other|                   1326|    1|\n",
            "|   Other|                    128|    1|\n",
            "|   Other|                  96832|    1|\n",
            "|Low Fare|                   3508|    1|\n",
            "|   Other|                   6153|    1|\n",
            "|Low Fare|                  21390|    1|\n",
            "+--------+-----------------------+-----+\n",
            "only showing top 20 rows\n",
            "\n",
            "+----------------+-----------------------+-----+\n",
            "|Passesnger_Count|Adjust_Passesnger_Count|count|\n",
            "+----------------+-----------------------+-----+\n",
            "|           20635|                  20635|    1|\n",
            "|            9486|                   9486|    1|\n",
            "|           25505|                  25505|    1|\n",
            "|            5041|                   5041|    1|\n",
            "|            3465|                   6930|    1|\n",
            "|           21571|                  21571|    1|\n",
            "|           42622|                  42622|    1|\n",
            "|            1158|                   1158|    1|\n",
            "|            4672|                   4672|    1|\n",
            "|            7357|                   7357|    1|\n",
            "|           20535|                  20535|    1|\n",
            "|           11792|                  11792|    1|\n",
            "|           15019|                  15019|    1|\n",
            "|          102899|                 102899|    1|\n",
            "|            5123|                   5123|    1|\n",
            "|            3354|                   6708|    1|\n",
            "|            1737|                   3474|    1|\n",
            "|            1638|                   1638|    1|\n",
            "|            6324|                   6324|    1|\n",
            "|            6635|                   6635|    1|\n",
            "+----------------+-----------------------+-----+\n",
            "only showing top 20 rows\n",
            "\n",
            "+-----------------------+-----------------------+-----+\n",
            "|Adjust_Passesnger_Count|Adjust_Passesnger_Count|count|\n",
            "+-----------------------+-----------------------+-----+\n",
            "|                   6658|                   6658|    1|\n",
            "|                   8086|                   8086|    1|\n",
            "|                  34878|                  34878|    1|\n",
            "|                  19200|                  19200|    1|\n",
            "|                  26801|                  26801|    1|\n",
            "|                   1352|                   1352|    1|\n",
            "|                   9383|                   9383|    1|\n",
            "|                   6559|                   6559|    1|\n",
            "|                   7850|                   7850|    1|\n",
            "|                   3986|                   3986|    1|\n",
            "|                   6962|                   6962|    1|\n",
            "|                   7324|                   7324|    1|\n",
            "|                   3790|                   3790|    1|\n",
            "|                  33243|                  33243|    1|\n",
            "|                   5847|                   5847|    1|\n",
            "|                  22389|                  22389|    1|\n",
            "|                  27472|                  27472|    1|\n",
            "|                   5140|                   5140|    1|\n",
            "|                   4583|                   4583|    1|\n",
            "|                   5929|                   5929|    1|\n",
            "+-----------------------+-----------------------+-----+\n",
            "only showing top 20 rows\n",
            "\n"
          ]
        }
      ]
    },
    {
      "cell_type": "code",
      "metadata": {
        "id": "8mFk-F-qDrUM"
      },
      "source": [
        "from pyspark.ml.feature import Imputer\n",
        "\n",
        "imputer = Imputer(\n",
        "    inputCols=['Adjust_Passesnger_Count', 'Passesnger_Count'], \n",
        "    outputCols=[\"{}_imputed\".format(c) for c in ['Adjust_Passesnger_Count', 'Passesnger_Count']]\n",
        "    ).setStrategy(\"median\")"
      ],
      "execution_count": 42,
      "outputs": []
    },
    {
      "cell_type": "code",
      "metadata": {
        "colab": {
          "base_uri": "https://localhost:8080/"
        },
        "id": "55S5Aen0ECsF",
        "outputId": "db48b05f-a6e6-4075-ba8b-02962d55f1f9"
      },
      "source": [
        "imputer.fit(data).transform(data).show()"
      ],
      "execution_count": 43,
      "outputs": [
        {
          "output_type": "stream",
          "name": "stdout",
          "text": [
            "+------+---------------+---+---------------+---+-------------+-------------------+--------------+--------+----------------+-----------------------+-------------------------------+------------------------+\n",
            "|200507|  ATA Airlines1|TZ2|  ATA Airlines3|TZ4|     Domestic|                 US|      Deplaned|Low Fare|Passesnger_Count|Adjust_Passesnger_Count|Adjust_Passesnger_Count_imputed|Passesnger_Count_imputed|\n",
            "+------+---------------+---+---------------+---+-------------+-------------------+--------------+--------+----------------+-----------------------+-------------------------------+------------------------+\n",
            "|200507|   ATA Airlines| TZ|   ATA Airlines| TZ|     Domestic|                 US|      Enplaned|Low Fare|           29131|                  29131|                          29131|                   29131|\n",
            "|200507|   ATA Airlines| TZ|   ATA Airlines| TZ|     Domestic|                 US|Thru / Transit|Low Fare|            5415|                  10830|                          10830|                    5415|\n",
            "|200507|    Air Canada | AC|    Air Canada | AC|International|             Canada|      Deplaned|   Other|           35156|                  35156|                          35156|                   35156|\n",
            "|200507|    Air Canada | AC|    Air Canada | AC|International|             Canada|      Enplaned|   Other|           34090|                  34090|                          34090|                   34090|\n",
            "|200507|      Air China| CA|      Air China| CA|International|               Asia|      Deplaned|   Other|            6263|                   6263|                           6263|                    6263|\n",
            "|200507|      Air China| CA|      Air China| CA|International|               Asia|      Enplaned|   Other|            5500|                   5500|                           5500|                    5500|\n",
            "|200507|     Air France| AF|     Air France| AF|International|             Europe|      Deplaned|   Other|           12050|                  12050|                          12050|                   12050|\n",
            "|200507|     Air France| AF|     Air France| AF|International|             Europe|      Enplaned|   Other|           11638|                  11638|                          11638|                   11638|\n",
            "|200507|Air New Zealand| NZ|Air New Zealand| NZ|International|Australia / Oceania|      Deplaned|   Other|            4998|                   4998|                           4998|                    4998|\n",
            "|200507|Air New Zealand| NZ|Air New Zealand| NZ|International|Australia / Oceania|      Enplaned|   Other|            4962|                   4962|                           4962|                    4962|\n",
            "|200507|AirTran Airways| FL|AirTran Airways| FL|     Domestic|                 US|      Deplaned|Low Fare|            8055|                   8055|                           8055|                    8055|\n",
            "|200507|AirTran Airways| FL|AirTran Airways| FL|     Domestic|                 US|      Enplaned|Low Fare|            7984|                   7984|                           7984|                    7984|\n",
            "|200507|Alaska Airlines| AS|Alaska Airlines| AS|     Domestic|                 US|      Deplaned|   Other|           36641|                  36641|                          36641|                   36641|\n",
            "|200507|Alaska Airlines| AS|Alaska Airlines| AS|     Domestic|                 US|      Enplaned|   Other|           39379|                  39379|                          39379|                   39379|\n",
            "|200507|Alaska Airlines| AS|Alaska Airlines| AS|     Domestic|                 US|Thru / Transit|   Other|            3678|                   7356|                           7356|                    3678|\n",
            "|200507|Alaska Airlines| AS|Alaska Airlines| AS|International|             Canada|      Deplaned|   Other|            7977|                   7977|                           7977|                    7977|\n",
            "|200507|Alaska Airlines| AS|Alaska Airlines| AS|International|             Canada|      Enplaned|   Other|            8837|                   8837|                           8837|                    8837|\n",
            "|200507|Alaska Airlines| AS|Alaska Airlines| AS|International|             Mexico|      Deplaned|   Other|            6969|                   6969|                           6969|                    6969|\n",
            "|200507|Alaska Airlines| AS|Alaska Airlines| AS|International|             Mexico|      Enplaned|   Other|           10046|                  10046|                          10046|                   10046|\n",
            "|200507|Alaska Airlines| AS|Alaska Airlines| AS|International|             Mexico|Thru / Transit|   Other|            2266|                   4532|                           4532|                    2266|\n",
            "+------+---------------+---+---------------+---+-------------+-------------------+--------------+--------+----------------+-----------------------+-------------------------------+------------------------+\n",
            "only showing top 20 rows\n",
            "\n"
          ]
        }
      ]
    },
    {
      "cell_type": "code",
      "metadata": {
        "id": "jgsgU7XKEIIv"
      },
      "source": [
        "from pyspark.ml.feature import VectorAssembler\n",
        "featureassembler=VectorAssembler(inputCols=['Adjust_Passesnger_Count', 'Passesnger_Count'],outputCol=\"Independent Features\")"
      ],
      "execution_count": 44,
      "outputs": []
    },
    {
      "cell_type": "code",
      "metadata": {
        "colab": {
          "base_uri": "https://localhost:8080/"
        },
        "id": "V8YhakfUEkb2",
        "outputId": "3ec6b671-6a97-4095-af8b-a0c1ecf02ac6"
      },
      "source": [
        "output=featureassembler.transform(data)\n",
        "output.show()"
      ],
      "execution_count": 45,
      "outputs": [
        {
          "output_type": "stream",
          "name": "stdout",
          "text": [
            "+------+---------------+---+---------------+---+-------------+-------------------+--------------+--------+----------------+-----------------------+--------------------+\n",
            "|200507|  ATA Airlines1|TZ2|  ATA Airlines3|TZ4|     Domestic|                 US|      Deplaned|Low Fare|Passesnger_Count|Adjust_Passesnger_Count|Independent Features|\n",
            "+------+---------------+---+---------------+---+-------------+-------------------+--------------+--------+----------------+-----------------------+--------------------+\n",
            "|200507|   ATA Airlines| TZ|   ATA Airlines| TZ|     Domestic|                 US|      Enplaned|Low Fare|           29131|                  29131|   [29131.0,29131.0]|\n",
            "|200507|   ATA Airlines| TZ|   ATA Airlines| TZ|     Domestic|                 US|Thru / Transit|Low Fare|            5415|                  10830|    [10830.0,5415.0]|\n",
            "|200507|    Air Canada | AC|    Air Canada | AC|International|             Canada|      Deplaned|   Other|           35156|                  35156|   [35156.0,35156.0]|\n",
            "|200507|    Air Canada | AC|    Air Canada | AC|International|             Canada|      Enplaned|   Other|           34090|                  34090|   [34090.0,34090.0]|\n",
            "|200507|      Air China| CA|      Air China| CA|International|               Asia|      Deplaned|   Other|            6263|                   6263|     [6263.0,6263.0]|\n",
            "|200507|      Air China| CA|      Air China| CA|International|               Asia|      Enplaned|   Other|            5500|                   5500|     [5500.0,5500.0]|\n",
            "|200507|     Air France| AF|     Air France| AF|International|             Europe|      Deplaned|   Other|           12050|                  12050|   [12050.0,12050.0]|\n",
            "|200507|     Air France| AF|     Air France| AF|International|             Europe|      Enplaned|   Other|           11638|                  11638|   [11638.0,11638.0]|\n",
            "|200507|Air New Zealand| NZ|Air New Zealand| NZ|International|Australia / Oceania|      Deplaned|   Other|            4998|                   4998|     [4998.0,4998.0]|\n",
            "|200507|Air New Zealand| NZ|Air New Zealand| NZ|International|Australia / Oceania|      Enplaned|   Other|            4962|                   4962|     [4962.0,4962.0]|\n",
            "|200507|AirTran Airways| FL|AirTran Airways| FL|     Domestic|                 US|      Deplaned|Low Fare|            8055|                   8055|     [8055.0,8055.0]|\n",
            "|200507|AirTran Airways| FL|AirTran Airways| FL|     Domestic|                 US|      Enplaned|Low Fare|            7984|                   7984|     [7984.0,7984.0]|\n",
            "|200507|Alaska Airlines| AS|Alaska Airlines| AS|     Domestic|                 US|      Deplaned|   Other|           36641|                  36641|   [36641.0,36641.0]|\n",
            "|200507|Alaska Airlines| AS|Alaska Airlines| AS|     Domestic|                 US|      Enplaned|   Other|           39379|                  39379|   [39379.0,39379.0]|\n",
            "|200507|Alaska Airlines| AS|Alaska Airlines| AS|     Domestic|                 US|Thru / Transit|   Other|            3678|                   7356|     [7356.0,3678.0]|\n",
            "|200507|Alaska Airlines| AS|Alaska Airlines| AS|International|             Canada|      Deplaned|   Other|            7977|                   7977|     [7977.0,7977.0]|\n",
            "|200507|Alaska Airlines| AS|Alaska Airlines| AS|International|             Canada|      Enplaned|   Other|            8837|                   8837|     [8837.0,8837.0]|\n",
            "|200507|Alaska Airlines| AS|Alaska Airlines| AS|International|             Mexico|      Deplaned|   Other|            6969|                   6969|     [6969.0,6969.0]|\n",
            "|200507|Alaska Airlines| AS|Alaska Airlines| AS|International|             Mexico|      Enplaned|   Other|           10046|                  10046|   [10046.0,10046.0]|\n",
            "|200507|Alaska Airlines| AS|Alaska Airlines| AS|International|             Mexico|Thru / Transit|   Other|            2266|                   4532|     [4532.0,2266.0]|\n",
            "+------+---------------+---+---------------+---+-------------+-------------------+--------------+--------+----------------+-----------------------+--------------------+\n",
            "only showing top 20 rows\n",
            "\n"
          ]
        }
      ]
    },
    {
      "cell_type": "code",
      "metadata": {
        "colab": {
          "base_uri": "https://localhost:8080/"
        },
        "id": "rgEptDFOEsAz",
        "outputId": "91082b9d-9906-49ec-9d10-b6d8af4aba84"
      },
      "source": [
        "finalized_data=output.select(\"Independent Features\",\"Adjust_Passesnger_Count\")\n",
        "finalized_data.show()"
      ],
      "execution_count": 46,
      "outputs": [
        {
          "output_type": "stream",
          "name": "stdout",
          "text": [
            "+--------------------+-----------------------+\n",
            "|Independent Features|Adjust_Passesnger_Count|\n",
            "+--------------------+-----------------------+\n",
            "|   [29131.0,29131.0]|                  29131|\n",
            "|    [10830.0,5415.0]|                  10830|\n",
            "|   [35156.0,35156.0]|                  35156|\n",
            "|   [34090.0,34090.0]|                  34090|\n",
            "|     [6263.0,6263.0]|                   6263|\n",
            "|     [5500.0,5500.0]|                   5500|\n",
            "|   [12050.0,12050.0]|                  12050|\n",
            "|   [11638.0,11638.0]|                  11638|\n",
            "|     [4998.0,4998.0]|                   4998|\n",
            "|     [4962.0,4962.0]|                   4962|\n",
            "|     [8055.0,8055.0]|                   8055|\n",
            "|     [7984.0,7984.0]|                   7984|\n",
            "|   [36641.0,36641.0]|                  36641|\n",
            "|   [39379.0,39379.0]|                  39379|\n",
            "|     [7356.0,3678.0]|                   7356|\n",
            "|     [7977.0,7977.0]|                   7977|\n",
            "|     [8837.0,8837.0]|                   8837|\n",
            "|     [6969.0,6969.0]|                   6969|\n",
            "|   [10046.0,10046.0]|                  10046|\n",
            "|     [4532.0,2266.0]|                   4532|\n",
            "+--------------------+-----------------------+\n",
            "only showing top 20 rows\n",
            "\n"
          ]
        }
      ]
    },
    {
      "cell_type": "code",
      "metadata": {
        "id": "RyoiEC5yFCJD"
      },
      "source": [
        ""
      ],
      "execution_count": null,
      "outputs": []
    }
  ]
}